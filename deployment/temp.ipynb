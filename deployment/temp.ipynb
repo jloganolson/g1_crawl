{
 "cells": [
  {
   "cell_type": "code",
   "execution_count": 9,
   "metadata": {},
   "outputs": [
    {
     "name": "stdout",
     "output_type": "stream",
     "text": [
      "Could not automatically determine input shape: no signature found for <torch.ScriptMethod object at 0x7ee694948720>\n",
      "\n",
      "Inference successful!\n",
      "Input shape: torch.Size([75])\n",
      "Output shape: torch.Size([23])\n"
     ]
    }
   ],
   "source": [
    "import torch\n",
    "\n",
    "# Load the model\n",
    "model = torch.load('./policy.pt',weights_only=True)\n",
    "#projected_gravity 3\n",
    "# velocity_commands 3\n",
    "# joint_pos 23\n",
    "# joint_vel 23\n",
    "#  actions 23)\n",
    "random_input = torch.randn(75)  # Example shape for image input\n",
    "\n",
    "\n",
    "output = model(random_input)\n",
    "\n",
    "# # print(\"Model keys:\", model.keys())\n",
    "\n",
    "\n",
    "# # Print model structure to understand expected input shape\n",
    "# # print(\"Model structure:\")\n",
    "# # print(model)\n",
    "\n",
    "# # # Try to get input shape from model if possible\n",
    "# try:\n",
    "#     # For nn.Module models\n",
    "#     if hasattr(model, 'input_shape'):\n",
    "#         expected_shape = model.input_shape\n",
    "#         print(f\"Expected input shape from model: {expected_shape}\")\n",
    "#     # For models with a forward method that has type hints\n",
    "#     elif hasattr(model, 'forward'):\n",
    "#         import inspect\n",
    "#         sig = inspect.signature(model.forward)\n",
    "#         print(\"Forward method signature:\", sig)\n",
    "# except Exception as e:\n",
    "#     print(f\"Could not automatically determine input shape: {e}\")\n",
    "\n",
    "# # Create a random input tensor with a common shape\n",
    "# # We'll adjust this based on the model structure outpu\n",
    "\n",
    "# # Run inference\n",
    "# with torch.no_grad():\n",
    "#     try:\n",
    "#         print(\"\\nInference successful!\")\n",
    "#         print(f\"Input shape: {random_input.shape}\")\n",
    "#         print(f\"Output shape: {output.shape}\")\n",
    "#     except Exception as e:\n",
    "#         print(f\"\\nError during inference: {e}\")\n",
    "#         print(\"This suggests the input shape is incorrect. Check the model structure above.\")\n",
    "\n"
   ]
  }
 ],
 "metadata": {
  "kernelspec": {
   "display_name": "env_isaaclab",
   "language": "python",
   "name": "python3"
  },
  "language_info": {
   "codemirror_mode": {
    "name": "ipython",
    "version": 3
   },
   "file_extension": ".py",
   "mimetype": "text/x-python",
   "name": "python",
   "nbconvert_exporter": "python",
   "pygments_lexer": "ipython3",
   "version": "3.10.16"
  }
 },
 "nbformat": 4,
 "nbformat_minor": 2
}
